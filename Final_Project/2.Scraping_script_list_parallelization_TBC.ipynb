{
 "cells": [
  {
   "cell_type": "markdown",
   "id": "8ac880f2",
   "metadata": {},
   "source": [
    "# Scraping Script with parallelization"
   ]
  },
  {
   "cell_type": "code",
   "execution_count": 1,
   "id": "c63d1d23",
   "metadata": {},
   "outputs": [],
   "source": [
    "import pandas as pd\n",
    "import time\n",
    "import re\n",
    "import requests\n",
    "from bs4 import BeautifulSoup\n",
    "import random\n",
    "import numpy as np\n",
    "import multiprocessing\n",
    "import time"
   ]
  },
  {
   "cell_type": "code",
   "execution_count": 2,
   "id": "c6f7093a",
   "metadata": {},
   "outputs": [],
   "source": [
    "#Loading hole carl list\n",
    "db_11912 = pd.read_csv('autocasion_unique.csv')"
   ]
  },
  {
   "cell_type": "code",
   "execution_count": 3,
   "id": "06937b9f",
   "metadata": {},
   "outputs": [
    {
     "data": {
      "text/plain": [
       "/coches-segunda-mano/nissan-micra-ocasion/micra-ig-t-s-s-acenta-90-ref6794986                        6\n",
       "/coches-segunda-mano/renault-clio-ocasion/clio-1-5dci-eco2-s-s-energy-business-90-ref7093817         6\n",
       "/coches-segunda-mano/kia-cee-d-ocasion/cee-d-1-4crdi-wgt-business-90-ref6896415                      6\n",
       "/coches-segunda-mano/renault-clio-ocasion/clio-1-5dci-eco2-energy-authentique-75-ref7106771          6\n",
       "/coches-segunda-mano/opel-corsa-ocasion/corsa-1-4-selective-90-1-ref6871315                          6\n",
       "                                                                                                    ..\n",
       "/coches-segunda-mano/renault-clio-ocasion/business-energy-dci-55kw-75cv-1623e678ddd8dd-ref6642850    1\n",
       "/coches-segunda-mano/skoda-fabia-ocasion/1-0-tsi-70kw-95cv-ambition-161f3fcbc8cc67-ref6387154        1\n",
       "/coches-segunda-mano/dacia-duster-ocasion/duster-1-6-ambiance-4x2-115-ref6620896                     1\n",
       "/coches-segunda-mano/opel-zafira-ocasion/zafira-tourer-2-0cdti-expression-130-ref6936000             1\n",
       "/coches-segunda-mano/opel-mokka-ocasion/mokka-1-6cdti-s-s-excellence-4x2-ref6992738                  1\n",
       "Name: 7, Length: 8868, dtype: int64"
      ]
     },
     "execution_count": 3,
     "metadata": {},
     "output_type": "execute_result"
    }
   ],
   "source": [
    "#Cleaning duplicated links, to brin only unique links\n",
    "no_rep = db_11912['7'].value_counts()\n",
    "no_rep"
   ]
  },
  {
   "cell_type": "code",
   "execution_count": 4,
   "id": "315bca89",
   "metadata": {},
   "outputs": [],
   "source": [
    "#creating list of index/links to scrap\n",
    "no_rep_df = pd.DataFrame(no_rep)\n",
    "index = no_rep_df.index\n",
    "links_no_rep_list = []\n",
    "for link in index:\n",
    "    links_no_rep_list.append(link)\n"
   ]
  },
  {
   "cell_type": "code",
   "execution_count": 5,
   "id": "d24e0917",
   "metadata": {},
   "outputs": [],
   "source": [
    "#Spliting list of  in equal qty of lists\n",
    "def chunkIt(seq, num):\n",
    "    avg = len(seq) / float(num)\n",
    "    out = []\n",
    "    last = 0.0\n",
    "\n",
    "    while last < len(seq):\n",
    "        out.append(seq[int(last):int(last + avg)])\n",
    "        last += avg\n",
    "\n",
    "    return out"
   ]
  },
  {
   "cell_type": "code",
   "execution_count": 6,
   "id": "e40a0c8d",
   "metadata": {},
   "outputs": [],
   "source": [
    "#Dividing list into 8\n",
    "div = chunkIt(links_no_rep_list, 8)"
   ]
  },
  {
   "cell_type": "code",
   "execution_count": 7,
   "id": "e3e4864d",
   "metadata": {},
   "outputs": [],
   "source": [
    "#List o list splited \n",
    "list1 = div[0]\n",
    "list2 = div[1]\n",
    "list3 = div[2]\n",
    "list4 = div[3]\n",
    "list5 = div[4]\n",
    "list6 = div[5]\n",
    "list7= div[6]\n",
    "list8 = div[7]\n"
   ]
  },
  {
   "cell_type": "code",
   "execution_count": 8,
   "id": "4831992b",
   "metadata": {},
   "outputs": [],
   "source": [
    "#dummy lists for test"
   ]
  },
  {
   "cell_type": "code",
   "execution_count": 9,
   "id": "c85bf394",
   "metadata": {},
   "outputs": [],
   "source": [
    "list1a = ['/coches-segunda-mano/nissan-micra-ocasion/micra-ig-t-s-s-acenta-90-ref6794986',\n",
    " '/coches-segunda-mano/kia-cee-d-ocasion/cee-d-1-4crdi-wgt-business-90-ref6896415',\n",
    " '/coches-segunda-mano/renault-clio-ocasion/clio-1-5dci-eco2-energy-authentique-75-ref7106771',\n",
    " '/coches-segunda-mano/opel-corsa-ocasion/corsa-1-4-selective-90-1-ref6871315']"
   ]
  },
  {
   "cell_type": "code",
   "execution_count": 10,
   "id": "d7d64201",
   "metadata": {},
   "outputs": [],
   "source": [
    "list1b =['/coches-segunda-mano/opel-insignia-ocasion/insignia-1-6cdti-ecoflex-s-s-selective-136-ref7178412',\n",
    " '/coches-segunda-mano/dacia-sandero-ocasion/sandero-0-9-tce-stepway-66kw-90-5p-20-ref7208696',\n",
    " '/coches-segunda-mano/fiat-punto-ocasion/1-2-8v-easy-51kw-69cv-s-s-gasolina-162e35cfbdb87f-ref7206038',\n",
    " '/coches-km0/km-0/fiat-500-km0/500-1-0-hybrid-cult-52kw-ref5721940']"
   ]
  },
  {
   "cell_type": "markdown",
   "id": "6c956662",
   "metadata": {},
   "source": [
    "Main scraping code"
   ]
  },
  {
   "cell_type": "code",
   "execution_count": 12,
   "id": "18e1ae27",
   "metadata": {},
   "outputs": [
    {
     "data": {
      "text/plain": [
       "\"def scraping_script(list_):\\n  print('doing something that takes ' + str(list_) + ' seconds')\\n  time.sleep(list_)\\n  print('Task done')\""
      ]
     },
     "execution_count": 12,
     "metadata": {},
     "output_type": "execute_result"
    }
   ],
   "source": [
    "\"\"\"def scraping_script(list_):\n",
    "  print('doing something that takes ' + str(list_) + ' seconds')\n",
    "  time.sleep(list_)\n",
    "  print('Task done')\"\"\"\n"
   ]
  },
  {
   "cell_type": "code",
   "execution_count": 13,
   "id": "668f433c",
   "metadata": {},
   "outputs": [
    {
     "data": {
      "text/plain": [
       "\"\\nstart = time.perf_counter()\\n\\nscraping_script(2)\\nscraping_script(2)\\n\\nfinish = time.perf_counter()\\n\\nprint('finished in ' + str(finish - start) + ' seconds')\""
      ]
     },
     "execution_count": 13,
     "metadata": {},
     "output_type": "execute_result"
    }
   ],
   "source": [
    "\"\"\"\n",
    "start = time.perf_counter()\n",
    "\n",
    "scraping_script(2)\n",
    "scraping_script(2)\n",
    "\n",
    "finish = time.perf_counter()\n",
    "\n",
    "print('finished in ' + str(finish - start) + ' seconds')\"\"\""
   ]
  },
  {
   "cell_type": "code",
   "execution_count": 52,
   "id": "3c822a9d",
   "metadata": {},
   "outputs": [
    {
     "name": "stdout",
     "output_type": "stream",
     "text": [
      "finished in 5145.8145745 seconds\n"
     ]
    }
   ],
   "source": [
    "p1 = multiprocessing.Process(target = scraping_script, args = [2])\n",
    "p2 = multiprocessing.Process(target = scraping_script, args = [3])\n",
    "\n",
    "p1.start()\n",
    "p2.start()\n",
    "\n",
    "\n",
    "finish = time.perf_counter()\n",
    "print('finished in ' + str(finish - start) + ' seconds')"
   ]
  },
  {
   "cell_type": "code",
   "execution_count": 11,
   "id": "9f4e0f53",
   "metadata": {},
   "outputs": [],
   "source": [
    "def scraping_script(list_):\n",
    "    #print('Started '+ ' ........')\n",
    "    count = 0\n",
    "    main_list_ind_with_link =[]\n",
    "    \n",
    "    for element in list_:\n",
    "        url = 'https://www.autocasion.com/'+element\n",
    "        #print(url)\n",
    "        time.sleep(random.randint(0,5))\n",
    "        headers= {'Accept-Encoding':'gzip, deflate',\n",
    "              'Accept-Language':'en-US,en;q=0.9',\n",
    "              'User-Agent':'Mozilla/5.0 (Windows NT 10.0; Win64; x64) AppleWebKit/537.36 (KHTML, like Gecko) Chrome/100.0.4896.88 Safari/537.36'}\n",
    "        response = requests.get(url ,headers=headers)\n",
    "        soup = BeautifulSoup(response.content)\n",
    "\n",
    "        maker = soup.find_all('div',{'class':'bloque titulo-ficha'})[0].find_all_next(text=True)[1].strip().split()[0]#Maker\n",
    "        model = soup.find_all('div',{'class':'bloque titulo-ficha'})[0].find_all_next(text=True)[1].replace(maker,'').strip()\n",
    "        descrip = soup.find_all('div',{'class':'bloque titulo-ficha'})[0].find_all_next(text=True)[2].strip()\n",
    "        model_comp = soup.find_all('div',{'class':'bloque titulo-ficha'})[0].h1.text.strip() #Model\n",
    "        year= soup.find_all('div',{'class':'bloque titulo-ficha'})[0].p.span.text.strip() #year\n",
    "        city = soup.find_all('div',{'class':'bloque titulo-ficha'})[0].p.select('span')[1].text.strip() #city \n",
    "        year2 =soup.find_all('ul',{'class':'datos-basicos-ficha'})[0].find_all('li')[0].select('span')[1].text.strip() #year\n",
    "        color = soup.find_all('ul',{'class':'datos-basicos-ficha'})[0].find_all('li')[7].select('span')[1].text.strip()#color\n",
    "        power = soup.find_all('ul',{'class':'datos-basicos-ficha'})[0].find_all('li')[5].select('span')[1].text.strip() #Power\n",
    "        motor = soup.find_all('ul',{'class':'datos-basicos-ficha'})[0].find_all('li')[4].select('span')[1].text.strip() #automanual\n",
    "        chasis = soup.find_all('ul',{'class':'datos-basicos-ficha'})[0].find_all('li')[3].select('span')[1].text.strip() #chasis\n",
    "        kilom = soup.find_all('ul',{'class':'datos-basicos-ficha'})[0].find_all('li')[2].select('span')[1].text.strip() #kilometer\n",
    "        fuel = soup.find_all('ul',{'class':'datos-basicos-ficha'})[0].find_all('li')[1].select('span')[1].text.strip() #fuel\n",
    "        url_car = element\n",
    "\n",
    "        specs_car_list = []\n",
    "        specs_car_list.append(maker)\n",
    "        specs_car_list.append(model)\n",
    "        specs_car_list.append(descrip)\n",
    "        specs_car_list.append(model_comp)\n",
    "        specs_car_list.append(year)\n",
    "        specs_car_list.append(city)\n",
    "        specs_car_list.append(year2)\n",
    "        specs_car_list.append(color)\n",
    "        specs_car_list.append(power)\n",
    "        specs_car_list.append(motor)\n",
    "        specs_car_list.append(chasis)\n",
    "        specs_car_list.append(kilom)\n",
    "        specs_car_list.append(fuel)\n",
    "        specs_car_list.append(element)\n",
    "\n",
    "        #print(specs_car_list)\n",
    "        main_list_ind_with_link.append(specs_car_list)\n",
    "        count = count+1\n",
    "        print(count,' ',model,\" \",year)\n",
    "        print(url)\n",
    "    num = np.random.randint(1,10000000)\n",
    "    main_dfindlink = pd.DataFrame(main_list_ind_with_link, columns =['Maker','Model','Description','Name','Year','City','Year2','Color','Power','Motor','Chasis','Kilometers','Fuel','Link'])\n",
    "    main_dfindlink.to_csv(f'autocasion_parallelization_test{num}.csv')\n",
    "    print('Task done')\n",
    "    return main_dfindlink"
   ]
  },
  {
   "cell_type": "code",
   "execution_count": null,
   "id": "b4865965",
   "metadata": {},
   "outputs": [],
   "source": [
    "from multiprocessing import Pool\n",
    "\n",
    "p = Pool()\n",
    "p.map(scraping_script,['/coches-segunda-mano/nissan-micra-ocasion/micra-ig-t-s-s-acenta-90-ref6794986'])\n",
    "p.terminate()\n",
    "p.join()\n",
    "#p1 = multiprocessing.Process(target = scraping_script, args = [list1a])\n",
    "#p2 = multiprocessing.Process(target = scraping_script, args = [list1b])\n",
    "\n",
    "\n",
    "#p1.run()\n",
    "#p2.run()\n",
    "#join\n",
    "\n",
    "#p1.join()\n",
    "#p2.join()\n",
    "\n",
    "\n",
    "print('finished')"
   ]
  },
  {
   "cell_type": "code",
   "execution_count": 68,
   "id": "bf47c442",
   "metadata": {},
   "outputs": [
    {
     "name": "stdout",
     "output_type": "stream",
     "text": [
      "1   Micra   2018\n",
      "https://www.autocasion.com//coches-segunda-mano/nissan-micra-ocasion/micra-ig-t-s-s-acenta-90-ref6794986\n",
      "2   Cee´d   2017\n",
      "https://www.autocasion.com//coches-segunda-mano/kia-cee-d-ocasion/cee-d-1-4crdi-wgt-business-90-ref6896415\n",
      "3   Clio   2014\n",
      "https://www.autocasion.com//coches-segunda-mano/renault-clio-ocasion/clio-1-5dci-eco2-energy-authentique-75-ref7106771\n",
      "4   Corsa   2018\n",
      "https://www.autocasion.com//coches-segunda-mano/opel-corsa-ocasion/corsa-1-4-selective-90-1-ref6871315\n",
      "Task done\n"
     ]
    }
   ],
   "source": [
    "scraping_script(list1a)"
   ]
  },
  {
   "cell_type": "code",
   "execution_count": 46,
   "id": "bf84a1d9",
   "metadata": {},
   "outputs": [],
   "source": []
  },
  {
   "cell_type": "code",
   "execution_count": 47,
   "id": "51a6ad22",
   "metadata": {},
   "outputs": [],
   "source": []
  },
  {
   "cell_type": "code",
   "execution_count": null,
   "id": "12468f79",
   "metadata": {},
   "outputs": [],
   "source": []
  },
  {
   "cell_type": "code",
   "execution_count": null,
   "id": "88065a6d",
   "metadata": {},
   "outputs": [],
   "source": []
  }
 ],
 "metadata": {
  "kernelspec": {
   "display_name": "Python 3 (ipykernel)",
   "language": "python",
   "name": "python3"
  },
  "language_info": {
   "codemirror_mode": {
    "name": "ipython",
    "version": 3
   },
   "file_extension": ".py",
   "mimetype": "text/x-python",
   "name": "python",
   "nbconvert_exporter": "python",
   "pygments_lexer": "ipython3",
   "version": "3.9.7"
  }
 },
 "nbformat": 4,
 "nbformat_minor": 5
}
