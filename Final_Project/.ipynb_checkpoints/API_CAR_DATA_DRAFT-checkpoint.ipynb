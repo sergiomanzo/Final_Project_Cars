{
 "cells": [
  {
   "cell_type": "markdown",
   "id": "25f03e77",
   "metadata": {},
   "source": [
    "# API CAR DATA DRAFT"
   ]
  },
  {
   "cell_type": "code",
   "execution_count": 1,
   "id": "1f238641",
   "metadata": {},
   "outputs": [],
   "source": [
    "# requests library handles the HTTP methods and requests for Python\n",
    "import pandas as pd\n",
    "import time\n",
    "import re\n",
    "import requests\n",
    "from bs4 import BeautifulSoup\n",
    "import random\n",
    "import numpy as np"
   ]
  },
  {
   "cell_type": "code",
   "execution_count": 24,
   "id": "4c511fca",
   "metadata": {},
   "outputs": [
    {
     "name": "stdout",
     "output_type": "stream",
     "text": [
      "[{\"id\":9582,\"year\":2008,\"make\":\"Buick\",\"model\":\"Enclave\",\"type\":\"SUV\"},{\"id\":9583,\"year\":2006,\"make\":\"MINI\",\"model\":\"Convertible\",\"type\":\"Convertible\"},{\"id\":9584,\"year\":2019,\"make\":\"Volvo\",\"model\":\"XC90\",\"type\":\"SUV\"},{\"id\":9585,\"year\":1999,\"make\":\"Ford\",\"model\":\"Taurus\",\"type\":\"Sedan, Wagon\"},{\"id\":9586,\"year\":2020,\"make\":\"Volvo\",\"model\":\"XC60\",\"type\":\"SUV\"},{\"id\":9587,\"year\":2006,\"make\":\"HUMMER\",\"model\":\"H2\",\"type\":\"SUV, Pickup\"},{\"id\":9588,\"year\":2016,\"make\":\"GMC\",\"model\":\"Sierra 1500 Crew Cab\",\"type\":\"Pickup\"},{\"id\":9589,\"year\":2008,\"make\":\"GMC\",\"model\":\"Canyon Crew Cab\",\"type\":\"Pickup\"},{\"id\":9590,\"year\":2016,\"make\":\"Subaru\",\"model\":\"Outback\",\"type\":\"SUV\"},{\"id\":9591,\"year\":2010,\"make\":\"Mitsubishi\",\"model\":\"Outlander\",\"type\":\"SUV\"}]\n"
     ]
    }
   ],
   "source": [
    "\n",
    "import requests\n",
    "    \n",
    "url = \"http://zylalabs.com/api/10/automobile+data/43/cars\"\n",
    "    \n",
    "headers = {\n",
    "    'Authorization': 'Bearer 40|xOdERT2LsRotf2wMrL3u7aaJimoiJP0tKWm4Y7Sj'\n",
    "}\n",
    "    \n",
    "response = requests.request(\"GET\", url, headers=headers )\n",
    "    \n",
    "print(response.text)\n"
   ]
  },
  {
   "cell_type": "code",
   "execution_count": null,
   "id": "097e2eb1",
   "metadata": {},
   "outputs": [],
   "source": [
    "[\n",
    "  \"Buick\",\n",
    "  \"MINI\",\n",
    "  \"Volvo\",\n",
    "  \"Ford\",\n",
    "  \"HUMMER\",\n",
    "  \"GMC\",\n",
    "  \"Subaru\",\n",
    "  \"Mitsubishi\",\n",
    "  \"Dodge\",\n",
    "  \"Nissan\",\n",
    "  \"Honda\",\n",
    "  \"Lincoln\",\n",
    "  \"Hyundai\",\n",
    "  \"BMW\",\n",
    "  \"Bentley\",\n",
    "  \"Lexus\",\n",
    "  \"Chevrolet\",\n",
    "  \"Jaguar\",\n",
    "  \"Mercedes-Benz\",\n",
    "  \"Volkswagen\",\n",
    "  \"Aston Martin\",\n",
    "  \"Land Rover\",\n",
    "  \"Pontiac\",\n",
    "  \"Cadillac\",\n",
    "  \"FIAT\",\n",
    "  \"Saab\",\n",
    "  \"Kia\",\n",
    "  \"Lamborghini\",\n",
    "  \"Audi\",\n",
    "  \"Jeep\",\n",
    "  \"MAZDA\",\n",
    "  \"Suzuki\",\n",
    "  \"Toyota\",\n",
    "  \"Acura\",\n",
    "  \"Saturn\",\n",
    "  \"Chrysler\",\n",
    "  \"Isuzu\",\n",
    "  \"Ferrari\",\n",
    "  \"Tesla\",\n",
    "  \"INFINITI\",\n",
    "  \"Oldsmobile\",\n",
    "  \"Ram\",\n",
    "  \"Eagle\",\n",
    "  \"Porsche\",\n",
    "  \"Mercury\",\n",
    "  \"Scion\",\n",
    "  \"Lotus\",\n",
    "  \"Plymouth\",\n",
    "  \"Freightliner\",\n",
    "  \"Rolls-Royce\",\n",
    "  \"SRT\",\n",
    "  \"Maybach\",\n",
    "  \"Alfa Romeo\",\n",
    "  \"Geo\",\n",
    "  \"smart\",\n",
    "  \"Daewoo\",\n",
    "  \"Maserati\",\n",
    "  \"Daihatsu\",\n",
    "  \"Genesis\",\n",
    "  \"McLaren\",\n",
    "  \"Fisker\",\n",
    "  \"Panoz\"\n",
    "]"
   ]
  }
 ],
 "metadata": {
  "kernelspec": {
   "display_name": "Python 3 (ipykernel)",
   "language": "python",
   "name": "python3"
  },
  "language_info": {
   "codemirror_mode": {
    "name": "ipython",
    "version": 3
   },
   "file_extension": ".py",
   "mimetype": "text/x-python",
   "name": "python",
   "nbconvert_exporter": "python",
   "pygments_lexer": "ipython3",
   "version": "3.9.7"
  }
 },
 "nbformat": 4,
 "nbformat_minor": 5
}
