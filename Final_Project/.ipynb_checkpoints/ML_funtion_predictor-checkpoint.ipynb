{
 "cells": [
  {
   "cell_type": "code",
   "execution_count": 12,
   "id": "4e48ebae",
   "metadata": {},
   "outputs": [],
   "source": [
    "import pandas as pd\n",
    "import pickle\n",
    "from sklearn.metrics import mean_absolute_error\n",
    "import numpy as np"
   ]
  },
  {
   "cell_type": "code",
   "execution_count": 13,
   "id": "5650a4d0",
   "metadata": {},
   "outputs": [],
   "source": [
    "def predict_price(Year,HP,Kilometers,Automatic_Manual,Segmet_ABCDEF,Maker,Fuel,Max_vel,Cylindernumber):\n",
    "    X_test = pd.read_pickle('xtest.p')\n",
    "    y_test = pd.read_pickle('ytest.p')\n",
    "    templist = [0,0, 0,0,\n",
    "                    0,0,0,\n",
    "                    0,0,0,\n",
    "                    0,0,0,0,\n",
    "                    0,0,0,0,\n",
    "                    0,0,0,0,\n",
    "                    0,0,0,0,\n",
    "                    0,0,0,0,\n",
    "                    0,0,0,0,\n",
    "                    0,0,0,0,\n",
    "                    0,0,0,0,\n",
    "                    0,0,0,\n",
    "                    0,0,0]\n",
    "        \n",
    "    year = int(Year)\n",
    "    templist[0] = year\n",
    "    \n",
    "    HP = int(HP) \n",
    "    templist[1] = HP\n",
    "    \n",
    "    Kilometers = int(Kilometers)\n",
    "    templist[2] = Kilometers\n",
    "    \n",
    "    motor= 'Motor_'+str(Automatic_Manual).capitalize()\n",
    "    motorindx =X_test.columns.tolist().index(motor)\n",
    "    templist[motorindx] = 1\n",
    "    \n",
    "    segment = 'Segment_Segment'+str(Segmet_ABCDEF).capitalize()\n",
    "    segmentindx =X_test.columns.tolist().index(segment)\n",
    "    templist[segmentindx] = 1\n",
    "    \n",
    "    maker = 'Maker_'+str(Maker).upper()\n",
    "    makertindx =X_test.columns.tolist().index(maker)\n",
    "    templist[makertindx] = 1\n",
    "    \n",
    "    fuel = 'Fuel_'+str(Fuel).capitalize()\n",
    "    fuelindx =X_test.columns.tolist().index(fuel)\n",
    "    templist[fuelindx] = 1\n",
    "    \n",
    "    maxvel = int(Max_vel)\n",
    "    templist[46] = maxvel\n",
    "    \n",
    "    \n",
    "    Cylindernumber = int(Cylindernumber)\n",
    "    templist[47] = Cylindernumber\n",
    "    \n",
    "    xgb_model = pickle.load(open('model.p','rb'))\n",
    "    score = xgb_model.score(X_test,y_test)\n",
    "    score = round(score*100,3)\n",
    "    \n",
    "    y_pred = xgb_model.predict(X_test)\n",
    "    scoremae=mean_absolute_error(y_test, y_pred)\n",
    "    #year,HP,Kilometers,motor,segment,maker,fuel,maxvel,Cylindernumber\n",
    "    \n",
    "    result = xgb_model.predict(np.array([templist]))\n",
    "    \n",
    "    result_range1 = round(result[0]-scoremae)\n",
    "    result_range2 = round(result[0]+scoremae)\n",
    "    \n",
    "    return print('Prediction: ',result[0],'Score: ', score\n",
    "                 ,'Price range: ',result_range1,'-',result_range2,\"MAE: \",scoremae)"
   ]
  },
  {
   "cell_type": "code",
   "execution_count": 27,
   "id": "aef3c9cd",
   "metadata": {},
   "outputs": [
    {
     "name": "stdout",
     "output_type": "stream",
     "text": [
      "Prediction:  9331.43 Score:  80.595 Price range:  8604 - 10059 MAE:  727.2222186770712\n"
     ]
    }
   ],
   "source": [
    "predict_price(2018,73.944,153192,'manual','c','opel','diEsel',164.0,4)"
   ]
  },
  {
   "cell_type": "code",
   "execution_count": 28,
   "id": "bbbe5f53",
   "metadata": {},
   "outputs": [],
   "source": [
    "xgb_model = pickle.load(open('model.p','rb'))\n",
    "X_test = pd.read_pickle('xtest.p')\n",
    "y_test = pd.read_pickle('ytest.p')"
   ]
  },
  {
   "cell_type": "code",
   "execution_count": 29,
   "id": "2046cb3d",
   "metadata": {},
   "outputs": [
    {
     "data": {
      "text/plain": [
       "0.8059477204714156"
      ]
     },
     "execution_count": 29,
     "metadata": {},
     "output_type": "execute_result"
    }
   ],
   "source": [
    "xgb_model.score(X_test,y_test)"
   ]
  },
  {
   "cell_type": "code",
   "execution_count": 30,
   "id": "cd8be67f",
   "metadata": {},
   "outputs": [],
   "source": [
    "y_pred = xgb_model.predict(X_test)"
   ]
  },
  {
   "cell_type": "code",
   "execution_count": 31,
   "id": "1d3887a5",
   "metadata": {},
   "outputs": [
    {
     "data": {
      "text/plain": [
       "727.2222186770712"
      ]
     },
     "execution_count": 31,
     "metadata": {},
     "output_type": "execute_result"
    }
   ],
   "source": [
    "scoremae=mean_absolute_error(y_test, y_pred)\n",
    "scoremae"
   ]
  },
  {
   "cell_type": "code",
   "execution_count": null,
   "id": "b00e8654",
   "metadata": {},
   "outputs": [],
   "source": []
  }
 ],
 "metadata": {
  "kernelspec": {
   "display_name": "Python 3 (ipykernel)",
   "language": "python",
   "name": "python3"
  },
  "language_info": {
   "codemirror_mode": {
    "name": "ipython",
    "version": 3
   },
   "file_extension": ".py",
   "mimetype": "text/x-python",
   "name": "python",
   "nbconvert_exporter": "python",
   "pygments_lexer": "ipython3",
   "version": "3.9.7"
  }
 },
 "nbformat": 4,
 "nbformat_minor": 5
}
